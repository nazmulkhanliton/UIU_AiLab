{
  "nbformat": 4,
  "nbformat_minor": 0,
  "metadata": {
    "colab": {
      "name": "Simulated_Annealing_Hill_Talukder.ipynb",
      "provenance": []
    },
    "kernelspec": {
      "name": "python3",
      "display_name": "Python 3"
    },
    "language_info": {
      "name": "python"
    }
  },
  "cells": [
    {
      "cell_type": "code",
      "metadata": {
        "id": "J-Jm4rn8yDj4"
      },
      "source": [
        "#BY Nazmul Khan Liton\n",
        "#Hill Climbing (Simulated_Annealing)\n",
        "#calculate_cost_state\n",
        "import random\n",
        "import math\n",
        "def Init():\n",
        "    given_list = [2, 1, 5, 0, 8, 4, 10, 0, 30, 10]\n",
        "    \n",
        "    return given_list\n",
        "\n",
        "def calculate_cost(state):\n",
        "    cost = 0\n",
        "    count = 0\n",
        "    for i in range(len(state)):\n",
        "        for x in state:\n",
        "            if count >= i:\n",
        "                if state[i] > x:\n",
        "                    cost += 1\n",
        "            count += 1\n",
        "            \n",
        "        count = 0\n",
        "        \n",
        "    return cost"
      ],
      "execution_count": null,
      "outputs": []
    },
    {
      "cell_type": "code",
      "metadata": {
        "id": "WJ_hbbq7IRq9"
      },
      "source": [
        ""
      ],
      "execution_count": null,
      "outputs": []
    },
    {
      "cell_type": "code",
      "metadata": {
        "id": "xZYokvCvISCj"
      },
      "source": [
        "def State_generation(current_state, current_state_cost):\n",
        "    \n",
        "    temp_cost = current_state_cost\n",
        "\n",
        "    for i in range(len(current_state)):\n",
        "        for j in range(i+1, len(current_state)):\n",
        "            new_state = current_state.copy()\n",
        "            new_state[i], new_state[j] = new_state[j], new_state[i]  # swap\n",
        "\n",
        "            del_E = calculate_cost(current_state) - calculate_cost(new_state)   # 6 - 0 = 6\n",
        "\n",
        "            if(del_E == 0):\n",
        "                del_E = -1\n",
        "                act_value = math.e**del_E\n",
        "                g_value = random.random()\n",
        "                if(g_value>0 and g_value <= act_value):\n",
        "                    if(calculate_cost(new_state) < current_state_cost):\n",
        "                        temp_cost = calculate_cost(new_state)\n",
        "                        temp_list = new_state\n",
        "                        return temp_list, temp_cost\n",
        "\n",
        "            elif(del_E > 0):\n",
        "                if(calculate_cost(new_state) < current_state_cost):\n",
        "                    temp_cost = calculate_cost(new_state)\n",
        "                    temp_list = new_state\n",
        "                    return temp_list, temp_cost\n",
        "                    \n",
        "            else:\n",
        "                act_value = math.e**del_E\n",
        "                g_value = random.random()\n",
        "                if(g_value>0 and g_value <= act_value):\n",
        "                    if(calculate_cost(new_state) < current_state_cost):\n",
        "                        temp_cost = calculate_cost(new_state)\n",
        "                        temp_list = new_state\n",
        "                        return temp_list, temp_cost\n",
        "\n"
      ],
      "execution_count": null,
      "outputs": []
    },
    {
      "cell_type": "code",
      "metadata": {
        "id": "AE8lk_2OISQb"
      },
      "source": [
        "def goal_test(state):\n",
        "    if calculate_cost(state) == 0:\n",
        "        return True\n",
        "    else:\n",
        "        return False"
      ],
      "execution_count": null,
      "outputs": []
    },
    {
      "cell_type": "code",
      "metadata": {
        "colab": {
          "base_uri": "https://localhost:8080/"
        },
        "id": "Z_eFDF6UIYgT",
        "outputId": "5313ef43-d5a5-43af-aa54-c421154c7133"
      },
      "source": [
        "cost = calculate_cost(Init())\n",
        "state = Init()\n",
        "\n",
        "while(not goal_test(state)):\n",
        "    state, cost = State_generation(state, cost)\n",
        "    if cost is None:\n",
        "\n",
        "        break\n",
        "print(state)"
      ],
      "execution_count": null,
      "outputs": [
        {
          "output_type": "stream",
          "text": [
            "[0, 0, 1, 2, 4, 5, 8, 10, 10, 30]\n"
          ],
          "name": "stdout"
        }
      ]
    }
  ]
}