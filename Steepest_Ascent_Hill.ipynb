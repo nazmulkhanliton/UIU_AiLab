{
  "nbformat": 4,
  "nbformat_minor": 0,
  "metadata": {
    "kernelspec": {
      "display_name": "Python 3",
      "language": "python",
      "name": "python3"
    },
    "language_info": {
      "codemirror_mode": {
        "name": "ipython",
        "version": 3
      },
      "file_extension": ".py",
      "mimetype": "text/x-python",
      "name": "python",
      "nbconvert_exporter": "python",
      "pygments_lexer": "ipython3",
      "version": "3.7.6"
    },
    "colab": {
      "name": "Steepest_Ascent_Hill_Talukder.ipynb",
      "provenance": []
    }
  },
  "cells": [
    {
      "cell_type": "code",
      "metadata": {
        "id": "aqm37x2d3RaM"
      },
      "source": [
        "#BY Nazmul Khan Liton\n",
        "#Hill Climbing (Steepest ascent)\n",
        "#calculate_cost_state\n",
        "\n",
        "def Init():\n",
        "    given_list = [2, 1, 5, 0, 8, 4, 10, 0, 20, 10]  #len 10\n",
        "    \n",
        "    return given_list\n",
        "\n",
        "def calculate_cost(state):   # 2 1 5 0 8 4 10 0 20 10\n",
        "    cost = 0\n",
        "    count = 0\n",
        "    for i in range(len(state)):   # i = 10\n",
        "        for x in state:                   # x = 2\n",
        "            if count >= i:           # true\n",
        "                if state[i] > x:  #  state[1] = 2 > x\n",
        "                    cost += 1                          #cost = 1\n",
        "            count += 1               #count = 10\n",
        "            \n",
        "        count = 0\n",
        "        \n",
        "    return cost"
      ],
      "execution_count": null,
      "outputs": []
    },
    {
      "cell_type": "code",
      "metadata": {
        "id": "wZXha8ny3Rak"
      },
      "source": [
        ""
      ],
      "execution_count": null,
      "outputs": []
    },
    {
      "cell_type": "code",
      "metadata": {
        "id": "THZJDG0h3Ram"
      },
      "source": [
        "def State_generation(current_state, current_state_cost):\n",
        "    temp_list = []\n",
        "    temp_cost = current_state_cost\n",
        "    \n",
        "\n",
        "    for i in range(len(current_state)):     # 10      given_list = [2, 1, 5, 0, 8, 4, 10, 0, 20, 10]\n",
        "        for j in range(i+1, len(current_state)): # \n",
        "            new_state = current_state.copy()             # new_state = [2, 1, 5, 0, 8, 4, 10, 0, 20, 10]\n",
        "            new_state[i], new_state[j] = new_state[j], new_state[i]  # swap new_state = [1, 2, 5, 0, 8, 4, 10, 0, 20, 10]\n",
        "          \n",
        "            if(calculate_cost(new_state) < temp_cost):\n",
        "                temp_cost = calculate_cost(new_state)\n",
        "                temp_list = new_state\n",
        "                \n",
        "    if calculate_cost(temp_list) < current_state_cost:\n",
        "        return temp_list, temp_cost\n",
        "    else:\n",
        "        return current_state, None"
      ],
      "execution_count": null,
      "outputs": []
    },
    {
      "cell_type": "code",
      "metadata": {
        "id": "ByYCRz0N3Rap"
      },
      "source": [
        ""
      ],
      "execution_count": null,
      "outputs": []
    },
    {
      "cell_type": "code",
      "metadata": {
        "id": "X86h80rP3Raq"
      },
      "source": [
        "def goal_test(state):\n",
        "    if calculate_cost(state) == 0:\n",
        "        return True\n",
        "    else:\n",
        "        return False"
      ],
      "execution_count": null,
      "outputs": []
    },
    {
      "cell_type": "code",
      "metadata": {
        "colab": {
          "base_uri": "https://localhost:8080/"
        },
        "id": "BTvoTz_03Rar",
        "outputId": "d53b8a50-ee9b-4728-f7b3-25f6340f6763"
      },
      "source": [
        "cost = calculate_cost(Init())\n",
        "state = Init()\n",
        "\n",
        "while(not goal_test(state)):\n",
        "    state, cost = State_generation(state, cost)\n",
        "    if cost is None:\n",
        "        break\n",
        "print(state)"
      ],
      "execution_count": null,
      "outputs": [
        {
          "output_type": "stream",
          "text": [
            "[0, 0, 1, 2, 4, 5, 8, 10, 10, 20]\n"
          ],
          "name": "stdout"
        }
      ]
    },
    {
      "cell_type": "code",
      "metadata": {
        "colab": {
          "base_uri": "https://localhost:8080/"
        },
        "id": "33DTNpqa3Rav",
        "outputId": "694b4f95-ec4a-4f3d-8176-6714703df3d0"
      },
      "source": [
        "def main():\n",
        "    print(\"hello\")\n",
        "if __name__ == \"__main__\":\n",
        "    main()"
      ],
      "execution_count": null,
      "outputs": [
        {
          "output_type": "stream",
          "text": [
            "hello\n"
          ],
          "name": "stdout"
        }
      ]
    },
    {
      "cell_type": "code",
      "metadata": {
        "id": "AoECxzRI3Rax"
      },
      "source": [
        "\n"
      ],
      "execution_count": null,
      "outputs": []
    },
    {
      "cell_type": "code",
      "metadata": {
        "id": "JYPv1Dbp3Ray"
      },
      "source": [
        ""
      ],
      "execution_count": null,
      "outputs": []
    }
  ]
}