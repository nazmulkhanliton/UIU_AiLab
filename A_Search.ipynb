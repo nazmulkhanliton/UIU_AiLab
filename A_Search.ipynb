{
  "nbformat": 4,
  "nbformat_minor": 0,
  "metadata": {
    "colab": {
      "name": "A* Search Talukder 8 4 21.ipynb",
      "provenance": [],
      "collapsed_sections": []
    },
    "kernelspec": {
      "name": "python3",
      "display_name": "Python 3"
    },
    "language_info": {
      "name": "python"
    }
  },
  "cells": [
    {
      "cell_type": "code",
      "metadata": {
        "colab": {
          "base_uri": "https://localhost:8080/"
        },
        "id": "zmvMwxiPG33R",
        "outputId": "a58b3ac5-d16d-49ef-9a04-09e07802aab8"
      },
      "source": [
        "pip install prioQbyrobi\n"
      ],
      "execution_count": null,
      "outputs": [
        {
          "output_type": "stream",
          "text": [
            "Requirement already satisfied: prioQbyrobi in /usr/local/lib/python3.7/dist-packages (2.0.6)\n"
          ],
          "name": "stdout"
        }
      ]
    },
    {
      "cell_type": "code",
      "metadata": {
        "id": "4Vr9A78VIbuw"
      },
      "source": [
        "import prioQbyrobi as Q"
      ],
      "execution_count": null,
      "outputs": []
    },
    {
      "cell_type": "code",
      "metadata": {
        "id": "H0W2IoMcaZjf",
        "colab": {
          "base_uri": "https://localhost:8080/"
        },
        "outputId": "908a73fb-8ac8-4acd-a228-5a861f7158d4"
      },
      "source": [
        "#Load heuristic dictionary from input.txt file\n",
        "heuristic_dic1 = {}\n",
        "\n",
        "file = open(\"input.txt\")\n",
        "for line in file:\n",
        "    key, value = line.split()\n",
        "    heuristic_dic1[key] = int(value)\n",
        "\n",
        "print(heuristic_dic1)\n",
        "\n",
        "heuristic_dic = { 0:'A', 1:'B', 2:'C', 3:'D', 4:'E',5:'F',6:'G',7:'H',8:'I',9:'J'}\n",
        "print(heuristic_dic)"
      ],
      "execution_count": null,
      "outputs": [
        {
          "output_type": "stream",
          "text": [
            "{'A': 10, 'B': 8, 'C': 5, 'D': 7, 'E': 3, 'F': 6, 'G': 5, 'H': 3, 'I': 1, 'J': 0}\n",
            "{0: 'A', 1: 'B', 2: 'C', 3: 'D', 4: 'E', 5: 'F', 6: 'G', 7: 'H', 8: 'I', 9: 'J'}\n"
          ],
          "name": "stdout"
        }
      ]
    },
    {
      "cell_type": "code",
      "metadata": {
        "id": "syu9T9XMl9-B",
        "colab": {
          "base_uri": "https://localhost:8080/"
        },
        "outputId": "abef4f38-8525-4e1a-b231-8a40923679d9"
      },
      "source": [
        "#Define List adj\n",
        "list_adj = [[-1,6,-1,-1,-1,3,-1,-1,-1,-1],\n",
        "            [-1,-1,3,2,-1,-1,-1,-1,-1,-1],\n",
        "            [-1,-1,-1,-1,5,-1,-1,-1,-1,-1],\n",
        "            [-1,-1,1,-1,8,-1,-1,-1,-1,-1],\n",
        "            [-1,-1,-1,-1,-1,-1,-1,-1,-1,5],\n",
        "            [-1,-1,-1,-1,-1,-1,1,7,-1,-1],\n",
        "            [-1,-1,-1,-1,-1,-1,-1,-1,3,-1],\n",
        "            [-1,-1,-1,-1,-1,-1,-1,-1,2,-1],\n",
        "            [-1,-1,-1,-1,5,-1,-1,-1,-1,3],\n",
        "            [-1,-1,-1,-1,-1,-1,-1,-1,-1,-1]]\n",
        "\n",
        "print(list_adj)\n",
        "type(list_adj)"
      ],
      "execution_count": null,
      "outputs": [
        {
          "output_type": "stream",
          "text": [
            "[[-1, 6, -1, -1, -1, 3, -1, -1, -1, -1], [-1, -1, 3, 2, -1, -1, -1, -1, -1, -1], [-1, -1, -1, -1, 5, -1, -1, -1, -1, -1], [-1, -1, 1, -1, 8, -1, -1, -1, -1, -1], [-1, -1, -1, -1, -1, -1, -1, -1, -1, 5], [-1, -1, -1, -1, -1, -1, 1, 7, -1, -1], [-1, -1, -1, -1, -1, -1, -1, -1, 3, -1], [-1, -1, -1, -1, -1, -1, -1, -1, 2, -1], [-1, -1, -1, -1, 5, -1, -1, -1, -1, 3], [-1, -1, -1, -1, -1, -1, -1, -1, -1, -1]]\n"
          ],
          "name": "stdout"
        },
        {
          "output_type": "execute_result",
          "data": {
            "text/plain": [
              "list"
            ]
          },
          "metadata": {
            "tags": []
          },
          "execution_count": 31
        }
      ]
    },
    {
      "cell_type": "code",
      "metadata": {
        "colab": {
          "base_uri": "https://localhost:8080/"
        },
        "id": "6phy9YaJJEFF",
        "outputId": "4a99528d-adf9-4fc3-c719-e60c292baa30"
      },
      "source": [
        "#Keep another list for keeping the h values of each node.\n",
        "h_values = [10,8,5,7,3,6,5,3,1,0]\n",
        "print(\"h_Value :  \",  h_values)\n"
      ],
      "execution_count": null,
      "outputs": [
        {
          "output_type": "stream",
          "text": [
            "h_Value :   [10, 8, 5, 7, 3, 6, 5, 3, 1, 0]\n"
          ],
          "name": "stdout"
        }
      ]
    },
    {
      "cell_type": "code",
      "metadata": {
        "id": "JClf-vhrKSuo"
      },
      "source": [
        "#Make a node class\n",
        "\n",
        "class Node:\n",
        "  def __init__(self, actual_cost, total_cost, node_number, node_obj=None):\n",
        "    self.actual_travel_cost = actual_cost\n",
        "    self.total_cost = total_cost\n",
        "    self.node_number = node_number\n",
        "    self.previous_node_obj = node_obj\n",
        "\n",
        "\n",
        "    "
      ],
      "execution_count": null,
      "outputs": []
    },
    {
      "cell_type": "code",
      "metadata": {
        "id": "j_9ZidIHJ-Xi",
        "colab": {
          "base_uri": "https://localhost:8080/"
        },
        "outputId": "78be86e1-f2ed-4636-efe5-c647fde6e043"
      },
      "source": [
        "start_node = Node(0, 10, 'A')\n",
        "\n",
        "min_Queue = Q.PriorityQueue()\n",
        "\n",
        "min_Queue.insert(start_node)\n",
        "track = 0\n",
        "k_track1 = 0 # keep track 1\n",
        "\n",
        "path = []\n",
        "\n",
        "while min_Queue.size() != 0:\n",
        "  get_node_obj = min_Queue.delete()\n",
        "  node_Name = get_node_obj.node_number\n",
        "  path = node_Name\n",
        "  print(node_Name)\n",
        "\n",
        "\n",
        "  for i in heuristic_dic:\n",
        "    if heuristic_dic[i] == node_Name:\n",
        "      k_track1 = track\n",
        "      break\n",
        "    else:\n",
        "      track = track + 1\n",
        "  \n",
        "  track = 0\n",
        "  \n",
        "  if k_track1 == (len(heuristic_dic) - 1):\n",
        "    break\n",
        "  \n",
        "  j = 0\n",
        "  for adjacent in list_adj[k_track1]:\n",
        "    if adjacent != -1:\n",
        "      get_node = get_node_obj.actual_travel_cost + adjacent\n",
        "      find_node = get_node + h_values[j]\n",
        "      new_node = Node(get_node, find_node, heuristic_dic[j], get_node_obj)\n",
        "\n",
        "      min_Queue.insert(new_node)\n",
        "    j = j + 1\n",
        "\n",
        "\n",
        "print(\"Total Cost\", j)\n",
        "\n",
        "\n",
        "\n",
        "\n",
        "\"\"\"\n",
        "while 1:\n",
        "  get_previous_node_obj = get_node_obj.previous_node_obj\n",
        "  if(get_previous_node_obj != None):\n",
        "    path.append(get_node_obj.node_number)\n",
        "    get_node_obj = get_previous_node_obj\n",
        "  else:\n",
        "    path.append(get_node_obj.node_number)\n",
        "    break \"\"\"\n",
        "\n",
        "\n",
        "path.reverse()\n",
        "print(path)\n"
      ],
      "execution_count": null,
      "outputs": [
        {
          "output_type": "stream",
          "text": [
            "A\n",
            "F\n",
            "G\n",
            "I\n",
            "J\n",
            "Total Cost 10\n",
            "['A', 'F', 'G', 'I', 'J']\n"
          ],
          "name": "stdout"
        }
      ]
    }
  ]
}